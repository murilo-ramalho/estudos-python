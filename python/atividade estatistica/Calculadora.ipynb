{
 "cells": [
  {
   "cell_type": "markdown",
   "metadata": {},
   "source": [
    "Codigo simples para calcular valores estatisticos"
   ]
  },
  {
   "cell_type": "code",
   "execution_count": 2,
   "metadata": {},
   "outputs": [],
   "source": [
    "import statistics"
   ]
  },
  {
   "cell_type": "code",
   "execution_count": 3,
   "metadata": {},
   "outputs": [],
   "source": [
    "def inserir_elemento():\n",
    "    elementos = []\n",
    "    while True:\n",
    "        elemento = input(\"Insira um elemento (ou 'fim' para sair): \")\n",
    "        if elemento.lower() == 'fim':\n",
    "            break\n",
    "        elementos.append(float(elemento))\n",
    "    return elementos"
   ]
  },
  {
   "cell_type": "code",
   "execution_count": 4,
   "metadata": {},
   "outputs": [],
   "source": [
    "\n",
    "def inserir_elemento_repeticoes():\n",
    "    elementos = []\n",
    "    while True:\n",
    "        elemento = input(\"Insira um elemento seguido pelo número de repetições (ou 'fim' para sair): \")\n",
    "        if elemento.lower() == 'fim':\n",
    "            break\n",
    "        elemento, repeticoes = elemento.split()\n",
    "        elementos.extend([float(elemento)] * int(repeticoes))\n",
    "    return elementos"
   ]
  },
  {
   "cell_type": "code",
   "execution_count": 5,
   "metadata": {},
   "outputs": [],
   "source": [
    "def calcular_estatisticas(elementos):\n",
    "    while True:\n",
    "        print(\"\\nMenu de Estatísticas:\")\n",
    "        print(\"1. Média aritmética\")\n",
    "        print(\"2. Média ponderada\")\n",
    "        print(\"3. Moda\")\n",
    "        print(\"4. Mediana\")\n",
    "        print(\"5. Variância amostral\")\n",
    "        print(\"6. Variância populacional\")\n",
    "        print(\"7. Desvio padrão amostral\")\n",
    "        print(\"8. Desvio padrão populacional\")\n",
    "        print(\"9. Voltar\")\n",
    "        \n",
    "        opcao = input(\"Escolha uma opção: \")\n",
    "        \n",
    "        if opcao == '1':\n",
    "            print(\"Média aritmética:\", statistics.mean(elementos))\n",
    "        elif opcao == '2':\n",
    "            pesos = input(\"Insira os pesos separados por espaço: \").split()\n",
    "            print(\"Média ponderada:\", statistics.weighted_mean(elementos, list(map(float, pesos))))\n",
    "        elif opcao == '3':\n",
    "            print(\"Moda:\", statistics.mode(elementos))\n",
    "        elif opcao == '4':\n",
    "            print(\"Mediana:\", statistics.median(elementos))\n",
    "        elif opcao == '5':\n",
    "            print(\"Variância amostral:\", statistics.variance(elementos))\n",
    "        elif opcao == '6':\n",
    "            print(\"Variância populacional:\", statistics.pvariance(elementos))\n",
    "        elif opcao == '7':\n",
    "            print(\"Desvio padrão amostral:\", statistics.stdev(elementos))\n",
    "        elif opcao == '8':\n",
    "            print(\"Desvio padrão populacional:\", statistics.pstdev(elementos))\n",
    "        elif opcao == '9':\n",
    "            break\n",
    "        else:\n",
    "            print(\"Opção inválida. Tente novamente.\")\n"
   ]
  },
  {
   "cell_type": "code",
   "execution_count": 6,
   "metadata": {},
   "outputs": [],
   "source": [
    "def main():\n",
    "    while True:\n",
    "        print(\"\\nMenu Principal:\")\n",
    "        print(\"1. Inserir elemento a elemento\")\n",
    "        print(\"2. Inserir elemento e quantidade de vezes\")\n",
    "        print(\"3. Sair\")\n",
    "        \n",
    "        opcao = input(\"Escolha uma opção: \")\n",
    "        \n",
    "        if opcao == '1':\n",
    "            quantidade = int(input(\"Quantos elementos deseja inserir? \"))\n",
    "            elementos = [float(input(f\"Informe o {i+1}º elemento: \")) for i in range(quantidade)]\n",
    "            calcular_estatisticas(elementos)\n",
    "        elif opcao == '2':\n",
    "            elementos = inserir_elemento_repeticoes()\n",
    "            calcular_estatisticas(elementos)\n",
    "        elif opcao == '3':\n",
    "            print(\"Encerrando o programa. Até mais!\")\n",
    "            break\n",
    "        else:\n",
    "            print(\"Opção inválida. Tente novamente.\")"
   ]
  },
  {
   "cell_type": "code",
   "execution_count": null,
   "metadata": {},
   "outputs": [],
   "source": [
    "main()"
   ]
  }
 ],
 "metadata": {
  "kernelspec": {
   "display_name": "Python 3",
   "language": "python",
   "name": "python3"
  },
  "language_info": {
   "codemirror_mode": {
    "name": "ipython",
    "version": 3
   },
   "file_extension": ".py",
   "mimetype": "text/x-python",
   "name": "python",
   "nbconvert_exporter": "python",
   "pygments_lexer": "ipython3",
   "version": "3.12.3"
  }
 },
 "nbformat": 4,
 "nbformat_minor": 2
}
